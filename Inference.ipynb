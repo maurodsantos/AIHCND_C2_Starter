{
 "cells": [
  {
   "cell_type": "code",
   "execution_count": null,
   "metadata": {},
   "outputs": [],
   "source": [
    "import cv2\n",
    "import numpy as np\n",
    "import pydicom\n",
    "%matplotlib inline\n",
    "import matplotlib.pyplot as plt\n",
    "import torch"
   ]
  },
  {
   "cell_type": "code",
   "execution_count": null,
   "metadata": {},
   "outputs": [],
   "source": [
    "# This function reads in a .dcm file, checks the important fields for our device, and returns a numpy array\n",
    "# of just the imaging data\n",
    "def check_dicom(filename): \n",
    "    print('Load file {} ...'.format(filename))\n",
    "    ds = pydicom.dcmread(filename)\n",
    "    if ds.BodyPartExamined=='CHEST' and ds.Modality=='DX' and ds.PatientPosition in ['AP', 'PA']:\n",
    "        print('File {} loaded.'.format(filename))\n",
    "    else:\n",
    "        print('File {} is not adequate to be scores by PneumoNet.'.format(filename))\n",
    "        return None\n",
    "    img = ds.pixel_array\n",
    "    return img\n",
    "    \n",
    "    \n",
    "# This function takes the numpy array output by check_dicom and \n",
    "# runs the appropriate pre-processing needed for our model input\n",
    "def preprocess_image(img,img_mean,img_std,img_size):\n",
    "\n",
    "    img_prep = cv2.cvtColor(cv2.resize(img, img_size), cv2.COLOR_GRAY2RGB)\n",
    "    img_prep = (img_prep - img_mean)/img_std\n",
    "\n",
    "    return np.expand_dims(img_prep, 0)\n",
    "\n",
    "# This function loads in our trained model w/ weights and compiles it \n",
    "def load_model(model_path):\n",
    "\n",
    "    model = torch.load(model_path)\n",
    "    model.eval()\n",
    "    return model\n",
    "\n",
    "# This function uses our device's threshold parameters to predict whether or not\n",
    "# the image shows the presence of pneumonia using our trained model\n",
    "def predict_image(model, img, thresh): \n",
    "    pred = model(img)\n",
    "    prediction = 0\n",
    "    if pred > thresh:\n",
    "        prediction = 1\n",
    "    return prediction "
   ]
  },
  {
   "cell_type": "code",
   "execution_count": null,
   "metadata": {},
   "outputs": [],
   "source": [
    "test_dicoms = ['test1.dcm','test2.dcm','test3.dcm','test4.dcm','test5.dcm','test6.dcm']\n",
    "\n",
    "model_path = 'my_model.pt' #path to saved model\n",
    "weight_path = 'PneumoVGG16_weights.pt' #path to saved best weights\n",
    "\n",
    "IMG_SIZE=(1,224,224,3) # This might be different if you did not use vgg16\n",
    "img_mean = np.array([0.485, 0.456, 0.406]) # loads the mean image value they used during training preprocessing\n",
    "img_std = np.array([0.229, 0.224, 0.225]) # loads the std dev image value they used during training preprocessing\n",
    "my_model = load_model(model_path) #loads model\n",
    "thresh = 0.5 #loads the threshold they chose for model classification\n",
    "\n",
    "# use the .dcm files to test your prediction\n",
    "for i in test_dicoms:\n",
    "    \n",
    "    img = check_dicom(i)\n",
    "    \n",
    "    if img is None:\n",
    "        continue\n",
    "        \n",
    "    img_proc = preprocess_image(img,img_mean,img_std,IMG_SIZE)\n",
    "    pred = predict_image(my_model,img_proc,thresh)\n",
    "    print(pred)"
   ]
  }
 ],
 "metadata": {
  "kernelspec": {
   "display_name": "Python 3",
   "language": "python",
   "name": "python3"
  },
  "language_info": {
   "codemirror_mode": {
    "name": "ipython",
    "version": 3
   },
   "file_extension": ".py",
   "mimetype": "text/x-python",
   "name": "python",
   "nbconvert_exporter": "python",
   "pygments_lexer": "ipython3",
   "version": "3.7.6"
  }
 },
 "nbformat": 4,
 "nbformat_minor": 2
}