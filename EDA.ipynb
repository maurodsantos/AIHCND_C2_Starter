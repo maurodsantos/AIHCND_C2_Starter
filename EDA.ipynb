{
 "cells": [
  {
   "cell_type": "code",
   "execution_count": 37,
   "metadata": {},
   "outputs": [],
   "source": [
    "import numpy as np # linear algebra\n",
    "import pandas as pd # data processing, CSV file I/O (e.g. pd.read_csv)\n",
    "import os\n",
    "from glob import glob\n",
    "%matplotlib inline\n",
    "import matplotlib.pyplot as plt\n",
    "import seaborn as sns\n",
    "\n",
    "##Import any other packages you may need here\n",
    "from itertools import chain\n",
    "import cv2"
   ]
  },
  {
   "cell_type": "code",
   "execution_count": 38,
   "metadata": {},
   "outputs": [
    {
     "data": {
      "text/html": [
       "<div>\n",
       "<style scoped>\n",
       "    .dataframe tbody tr th:only-of-type {\n",
       "        vertical-align: middle;\n",
       "    }\n",
       "\n",
       "    .dataframe tbody tr th {\n",
       "        vertical-align: top;\n",
       "    }\n",
       "\n",
       "    .dataframe thead th {\n",
       "        text-align: right;\n",
       "    }\n",
       "</style>\n",
       "<table border=\"1\" class=\"dataframe\">\n",
       "  <thead>\n",
       "    <tr style=\"text-align: right;\">\n",
       "      <th></th>\n",
       "      <th>Image Index</th>\n",
       "      <th>Finding Labels</th>\n",
       "      <th>Follow-up #</th>\n",
       "      <th>Patient ID</th>\n",
       "      <th>Patient Age</th>\n",
       "      <th>Patient Gender</th>\n",
       "      <th>View Position</th>\n",
       "      <th>OriginalImageWidth</th>\n",
       "      <th>OriginalImageHeight</th>\n",
       "      <th>OriginalImagePixelSpacing_x</th>\n",
       "      <th>OriginalImagePixelSpacing_y</th>\n",
       "      <th>age</th>\n",
       "    </tr>\n",
       "  </thead>\n",
       "  <tbody>\n",
       "    <tr>\n",
       "      <th>2644</th>\n",
       "      <td>00013282_004.png</td>\n",
       "      <td>Pneumothorax</td>\n",
       "      <td>4</td>\n",
       "      <td>13282</td>\n",
       "      <td>056Y</td>\n",
       "      <td>M</td>\n",
       "      <td>PA</td>\n",
       "      <td>2992</td>\n",
       "      <td>2991</td>\n",
       "      <td>0.143</td>\n",
       "      <td>0.143</td>\n",
       "      <td>56</td>\n",
       "    </tr>\n",
       "    <tr>\n",
       "      <th>81</th>\n",
       "      <td>00000468_005.png</td>\n",
       "      <td>Emphysema|Pneumothorax</td>\n",
       "      <td>5</td>\n",
       "      <td>468</td>\n",
       "      <td>031Y</td>\n",
       "      <td>M</td>\n",
       "      <td>PA</td>\n",
       "      <td>2992</td>\n",
       "      <td>2991</td>\n",
       "      <td>0.143</td>\n",
       "      <td>0.143</td>\n",
       "      <td>31</td>\n",
       "    </tr>\n",
       "    <tr>\n",
       "      <th>2228</th>\n",
       "      <td>00011460_021.png</td>\n",
       "      <td>Pneumothorax</td>\n",
       "      <td>21</td>\n",
       "      <td>11460</td>\n",
       "      <td>016Y</td>\n",
       "      <td>M</td>\n",
       "      <td>PA</td>\n",
       "      <td>2992</td>\n",
       "      <td>2991</td>\n",
       "      <td>0.143</td>\n",
       "      <td>0.143</td>\n",
       "      <td>16</td>\n",
       "    </tr>\n",
       "  </tbody>\n",
       "</table>\n",
       "</div>"
      ],
      "text/plain": [
       "           Image Index          Finding Labels  Follow-up #  Patient ID  \\\n",
       "2644  00013282_004.png            Pneumothorax            4       13282   \n",
       "81    00000468_005.png  Emphysema|Pneumothorax            5         468   \n",
       "2228  00011460_021.png            Pneumothorax           21       11460   \n",
       "\n",
       "     Patient Age Patient Gender View Position  OriginalImageWidth  \\\n",
       "2644        056Y              M            PA                2992   \n",
       "81          031Y              M            PA                2992   \n",
       "2228        016Y              M            PA                2992   \n",
       "\n",
       "      OriginalImageHeight  OriginalImagePixelSpacing_x  \\\n",
       "2644                 2991                        0.143   \n",
       "81                   2991                        0.143   \n",
       "2228                 2991                        0.143   \n",
       "\n",
       "      OriginalImagePixelSpacing_y  age  \n",
       "2644                        0.143   56  \n",
       "81                          0.143   31  \n",
       "2228                        0.143   16  "
      ]
     },
     "execution_count": 38,
     "metadata": {},
     "output_type": "execute_result"
    }
   ],
   "source": [
    "## Below is some helper code to read all of your full image filepaths into a dataframe for easier manipulation\n",
    "\n",
    "# all_xray_df = pd.read_csv('/data/Data_Entry_2017.csv')\n",
    "# all_xray_df.sample(3)\n",
    "df = pd.read_csv('data/sample_labels.csv')\n",
    "\n",
    "df['age']=pd.to_numeric(df['Patient Age'].str[0:-1],errors='coerce')\n",
    "df.sample(3)"
   ]
  },
  {
   "cell_type": "markdown",
   "metadata": {},
   "source": [
    "EDA is open-ended, and it is up to you to decide how to look at different ways to slice and dice your data. A good starting point is to look at the requirements for the FDA documentation in the final part of this project to guide (some) of the analyses you do. \n",
    "\n",
    "This EDA should also help to inform you of how pneumonia looks in the wild. E.g. what other types of diseases it's commonly found with, how often it is found, what ages it affects, etc. \n",
    "\n",
    "Note that this NIH dataset was not specifically acquired for pneumonia. So, while this is a representation of 'pneumonia in the wild,' the prevalence of pneumonia may be different if you were to take only chest x-rays that were acquired in an ER setting with suspicion of pneumonia. "
   ]
  },
  {
   "cell_type": "markdown",
   "metadata": {},
   "source": [
    "Also, **describe your findings and how will you set up the model training based on the findings.**"
   ]
  },
  {
   "cell_type": "markdown",
   "metadata": {},
   "source": [
    "## EDA"
   ]
  },
  {
   "cell_type": "markdown",
   "metadata": {},
   "source": []
  },
  {
   "cell_type": "code",
   "execution_count": 100,
   "metadata": {},
   "outputs": [],
   "source": [
    "disease_labels = np.unique(list(chain(*df['Finding Labels'].map(lambda x: x.split('|')).tolist())))\n",
    "#disease_labels = [x for x in all_labels if len(x)>0]\n",
    "#print(disease_labels)\n",
    "for label in disease_labels:\n",
    "#     if len(label)>1: # leave out empty labels\n",
    "    df[label] = df['Finding Labels'].map(lambda x: 1 if label in x else 0)"
   ]
  },
  {
   "cell_type": "markdown",
   "metadata": {},
   "source": [
    "### Demographic data such as age, gender, patient position,etc. (as it is available)"
   ]
  },
  {
   "cell_type": "markdown",
   "metadata": {
    "pycharm": {
     "name": "#%% md\n"
    }
   },
   "source": [
    "#### Age"
   ]
  },
  {
   "cell_type": "code",
   "execution_count": 98,
   "metadata": {
    "pycharm": {
     "name": "#%%\n"
    }
   },
   "outputs": [
    {
     "data": {
      "text/plain": [
       "count     5606\n",
       "unique      92\n",
       "top       058Y\n",
       "freq       167\n",
       "Name: Patient Age, dtype: object"
      ]
     },
     "execution_count": 98,
     "metadata": {},
     "output_type": "execute_result"
    },
    {
     "data": {
      "image/png": "[encoded data removed]",
      "text/plain": [
       "<Figure size 432x288 with 1 Axes>"
      ]
     },
     "metadata": {
      "needs_background": "light"
     },
     "output_type": "display_data"
    }
   ],
   "source": [
    "# Age distribution of all patients\n",
    "\n",
    "def convert(x):\n",
    "    '''assume that the first number is incorrect for ages above 110'''\n",
    "    age_str, age = x['Patient Age'],x['age']\n",
    "    age_aux=age\n",
    "    if age_aux>110:\n",
    "        age_aux=int(age_str[1:-1])\n",
    "    \n",
    "    return age_aux\n",
    "\n",
    "# convert ages above 110 to lower ages by assuming and non-random consisting error in the data-collection process.\n",
    "df.age=df[['Patient Age','age']].apply(lambda x: convert(x),axis=1)\n",
    "\n",
    "df['age'].hist(bins=100)\n",
    "plt.ylabel('Number of samples')\n",
    "plt.xlabel('age')\n",
    "df['Patient Age'].describe()\n",
    "\n",
    "# df[['Patient Age','age']].sort_values(by=['age'])"
   ]
  },
  {
   "cell_type": "markdown",
   "metadata": {},
   "source": [
    "#### Gender"
   ]
  },
  {
   "cell_type": "code",
   "execution_count": 40,
   "metadata": {},
   "outputs": [
    {
     "data": {
      "text/plain": [
       "Patient Gender\n",
       "F    2472\n",
       "M    3134\n",
       "dtype: int64"
      ]
     },
     "execution_count": 40,
     "metadata": {},
     "output_type": "execute_result"
    }
   ],
   "source": [
    "df.groupby(['Patient Gender']).size()"
   ]
  },
  {
   "cell_type": "markdown",
   "metadata": {
    "pycharm": {
     "name": "#%% md\n"
    }
   },
   "source": [
    "#### The x-ray views taken (i.e. view position)"
   ]
  },
  {
   "cell_type": "code",
   "execution_count": 41,
   "metadata": {},
   "outputs": [
    {
     "data": {
      "text/plain": [
       "View Position\n",
       "AP    2213\n",
       "PA    3393\n",
       "Name: Image Index, dtype: int64"
      ]
     },
     "execution_count": 41,
     "metadata": {},
     "output_type": "execute_result"
    }
   ],
   "source": [
    "df.groupby(['View Position'])['Image Index'].count()"
   ]
  },
  {
   "cell_type": "markdown",
   "metadata": {},
   "source": [
    "### Number of pneumonia vs non-pneumonia cases:"
   ]
  },
  {
   "cell_type": "code",
   "execution_count": 99,
   "metadata": {
    "pycharm": {
     "name": "#%%\n"
    }
   },
   "outputs": [
    {
     "data": {
      "text/plain": [
       "Pneumonia\n",
       "0    5544\n",
       "1      62\n",
       "dtype: int64"
      ]
     },
     "execution_count": 99,
     "metadata": {},
     "output_type": "execute_result"
    }
   ],
   "source": [
    "df.groupby(['Pneumonia']).size()"
   ]
  },
  {
   "cell_type": "markdown",
   "metadata": {},
   "source": [
    "### The distribution of other diseases that are comorbid with pneumonia"
   ]
  },
  {
   "cell_type": "code",
   "execution_count": 71,
   "metadata": {},
   "outputs": [
    {
     "data": {
      "text/plain": [
       "Text(0.5, 1.0, 'Diseases comorbid with pneumonia')"
      ]
     },
     "execution_count": 71,
     "metadata": {},
     "output_type": "execute_result"
    },
    {
     "data": {
      "image/png": "[encoded data removed]",
      "text/plain": [
       "<Figure size 432x288 with 1 Axes>"
      ]
     },
     "metadata": {
      "needs_background": "light"
     },
     "output_type": "display_data"
    }
   ],
   "source": [
    "disease_labels2=list(disease_labels.copy())\n",
    "disease_labels2.remove('Pneumonia')\n",
    "df[df.Pneumonia==1][disease_labels2].sum().sort_values(ascending=False).plot.bar()\n",
    "plt.ylabel('Frequency')\n",
    "plt.xlabel('Diseases')\n",
    "plt.title('Diseases comorbid with pneumonia')"
   ]
  },
  {
   "cell_type": "markdown",
   "metadata": {},
   "source": [
    "### Number of disease per patient"
   ]
  },
  {
   "cell_type": "code",
   "execution_count": 112,
   "metadata": {},
   "outputs": [
    {
     "name": "stdout",
     "output_type": "stream",
     "text": [
      "Disease count distribution per patient:\n",
      "count    1962.000000\n",
      "mean        2.005097\n",
      "std         1.672276\n",
      "min         1.000000\n",
      "25%         1.000000\n",
      "50%         1.000000\n",
      "75%         2.000000\n",
      "max        18.000000\n",
      "Name: total_disease, dtype: float64\n"
     ]
    }
   ],
   "source": [
    "df['total_disease']=df[disease_labels].sum(axis=1)\n",
    "all=df.groupby(['Patient ID'])['total_disease'].sum().describe()\n",
    "with_disease=df[df['Finding Labels']!='No Finding'].groupby(['Patient ID'])['total_disease'].sum().describe()\n",
    "print('Disease count distribution per patient:')\n",
    "print(with_disease)"
   ]
  },
  {
   "cell_type": "markdown",
   "metadata": {},
   "source": [
    "### Pixel-level assessments of the imaging data for healthy & disease states of interest (e.g. histograms of intensity values) and compare distributions across diseases."
   ]
  },
  {
   "cell_type": "code",
   "execution_count": 114,
   "metadata": {},
   "outputs": [
    {
     "ename": "TypeError",
     "evalue": "__init__() got an unexpected keyword argument 'size'",
     "output_type": "error",
     "traceback": [
      "\u001b[0;31m---------------------------------------------------------------------------\u001b[0m",
      "\u001b[0;31mTypeError\u001b[0m                                 Traceback (most recent call last)",
      "\u001b[0;32m/var/folders/__/kv8rrx2s5rb823gltcztlhm80000gn/T/ipykernel_43790/1575463879.py\u001b[0m in \u001b[0;36m<module>\u001b[0;34m\u001b[0m\n\u001b[1;32m      1\u001b[0m \u001b[0mdirectory\u001b[0m\u001b[0;34m=\u001b[0m\u001b[0;34m\"./data/sample/images/\"\u001b[0m\u001b[0;34m\u001b[0m\u001b[0;34m\u001b[0m\u001b[0m\n\u001b[0;32m----> 2\u001b[0;31m \u001b[0mfig\u001b[0m\u001b[0;34m,\u001b[0m\u001b[0max\u001b[0m\u001b[0;34m=\u001b[0m\u001b[0mplt\u001b[0m\u001b[0;34m.\u001b[0m\u001b[0msubplots\u001b[0m\u001b[0;34m(\u001b[0m\u001b[0;36m2\u001b[0m\u001b[0;34m,\u001b[0m\u001b[0;36m1\u001b[0m\u001b[0;34m,\u001b[0m\u001b[0msize\u001b[0m\u001b[0;34m=\u001b[0m\u001b[0;34m(\u001b[0m\u001b[0;36m10\u001b[0m\u001b[0;34m,\u001b[0m\u001b[0;36m10\u001b[0m\u001b[0;34m)\u001b[0m\u001b[0;34m)\u001b[0m\u001b[0;34m\u001b[0m\u001b[0;34m\u001b[0m\u001b[0m\n\u001b[0m\u001b[1;32m      3\u001b[0m \u001b[0;34m\u001b[0m\u001b[0m\n\u001b[1;32m      4\u001b[0m \u001b[0;34m\u001b[0m\u001b[0m\n\u001b[1;32m      5\u001b[0m \u001b[0;32mfor\u001b[0m \u001b[0mdisease\u001b[0m \u001b[0;32min\u001b[0m \u001b[0mdisease_labels\u001b[0m\u001b[0;34m:\u001b[0m\u001b[0;34m\u001b[0m\u001b[0;34m\u001b[0m\u001b[0m\n",
      "\u001b[0;32m~/Documents/udacity/AIHCND_C2_Starter/venv/lib/python3.8/site-packages/matplotlib/_api/deprecation.py\u001b[0m in \u001b[0;36mwrapper\u001b[0;34m(*args, **kwargs)\u001b[0m\n\u001b[1;32m    469\u001b[0m                 \u001b[0;34m\"parameter will become keyword-only %(removal)s.\"\u001b[0m\u001b[0;34m,\u001b[0m\u001b[0;34m\u001b[0m\u001b[0;34m\u001b[0m\u001b[0m\n\u001b[1;32m    470\u001b[0m                 name=name, obj_type=f\"parameter of {func.__name__}()\")\n\u001b[0;32m--> 471\u001b[0;31m         \u001b[0;32mreturn\u001b[0m \u001b[0mfunc\u001b[0m\u001b[0;34m(\u001b[0m\u001b[0;34m*\u001b[0m\u001b[0margs\u001b[0m\u001b[0;34m,\u001b[0m \u001b[0;34m**\u001b[0m\u001b[0mkwargs\u001b[0m\u001b[0;34m)\u001b[0m\u001b[0;34m\u001b[0m\u001b[0;34m\u001b[0m\u001b[0m\n\u001b[0m\u001b[1;32m    472\u001b[0m \u001b[0;34m\u001b[0m\u001b[0m\n\u001b[1;32m    473\u001b[0m     \u001b[0;32mreturn\u001b[0m \u001b[0mwrapper\u001b[0m\u001b[0;34m\u001b[0m\u001b[0;34m\u001b[0m\u001b[0m\n",
      "\u001b[0;32m~/Documents/udacity/AIHCND_C2_Starter/venv/lib/python3.8/site-packages/matplotlib/pyplot.py\u001b[0m in \u001b[0;36msubplots\u001b[0;34m(nrows, ncols, sharex, sharey, squeeze, subplot_kw, gridspec_kw, **fig_kw)\u001b[0m\n\u001b[1;32m   1437\u001b[0m \u001b[0;34m\u001b[0m\u001b[0m\n\u001b[1;32m   1438\u001b[0m     \"\"\"\n\u001b[0;32m-> 1439\u001b[0;31m     \u001b[0mfig\u001b[0m \u001b[0;34m=\u001b[0m \u001b[0mfigure\u001b[0m\u001b[0;34m(\u001b[0m\u001b[0;34m**\u001b[0m\u001b[0mfig_kw\u001b[0m\u001b[0;34m)\u001b[0m\u001b[0;34m\u001b[0m\u001b[0;34m\u001b[0m\u001b[0m\n\u001b[0m\u001b[1;32m   1440\u001b[0m     axs = fig.subplots(nrows=nrows, ncols=ncols, sharex=sharex, sharey=sharey,\n\u001b[1;32m   1441\u001b[0m                        \u001b[0msqueeze\u001b[0m\u001b[0;34m=\u001b[0m\u001b[0msqueeze\u001b[0m\u001b[0;34m,\u001b[0m \u001b[0msubplot_kw\u001b[0m\u001b[0;34m=\u001b[0m\u001b[0msubplot_kw\u001b[0m\u001b[0;34m,\u001b[0m\u001b[0;34m\u001b[0m\u001b[0;34m\u001b[0m\u001b[0m\n",
      "\u001b[0;32m~/Documents/udacity/AIHCND_C2_Starter/venv/lib/python3.8/site-packages/matplotlib/pyplot.py\u001b[0m in \u001b[0;36mfigure\u001b[0;34m(num, figsize, dpi, facecolor, edgecolor, frameon, FigureClass, clear, **kwargs)\u001b[0m\n\u001b[1;32m    795\u001b[0m                 RuntimeWarning)\n\u001b[1;32m    796\u001b[0m \u001b[0;34m\u001b[0m\u001b[0m\n\u001b[0;32m--> 797\u001b[0;31m         manager = new_figure_manager(\n\u001b[0m\u001b[1;32m    798\u001b[0m             \u001b[0mnum\u001b[0m\u001b[0;34m,\u001b[0m \u001b[0mfigsize\u001b[0m\u001b[0;34m=\u001b[0m\u001b[0mfigsize\u001b[0m\u001b[0;34m,\u001b[0m \u001b[0mdpi\u001b[0m\u001b[0;34m=\u001b[0m\u001b[0mdpi\u001b[0m\u001b[0;34m,\u001b[0m\u001b[0;34m\u001b[0m\u001b[0;34m\u001b[0m\u001b[0m\n\u001b[1;32m    799\u001b[0m             \u001b[0mfacecolor\u001b[0m\u001b[0;34m=\u001b[0m\u001b[0mfacecolor\u001b[0m\u001b[0;34m,\u001b[0m \u001b[0medgecolor\u001b[0m\u001b[0;34m=\u001b[0m\u001b[0medgecolor\u001b[0m\u001b[0;34m,\u001b[0m \u001b[0mframeon\u001b[0m\u001b[0;34m=\u001b[0m\u001b[0mframeon\u001b[0m\u001b[0;34m,\u001b[0m\u001b[0;34m\u001b[0m\u001b[0;34m\u001b[0m\u001b[0m\n",
      "\u001b[0;32m~/Documents/udacity/AIHCND_C2_Starter/venv/lib/python3.8/site-packages/matplotlib/pyplot.py\u001b[0m in \u001b[0;36mnew_figure_manager\u001b[0;34m(*args, **kwargs)\u001b[0m\n\u001b[1;32m    314\u001b[0m     \u001b[0;34m\"\"\"Create a new figure manager instance.\"\"\"\u001b[0m\u001b[0;34m\u001b[0m\u001b[0;34m\u001b[0m\u001b[0m\n\u001b[1;32m    315\u001b[0m     \u001b[0m_warn_if_gui_out_of_main_thread\u001b[0m\u001b[0;34m(\u001b[0m\u001b[0;34m)\u001b[0m\u001b[0;34m\u001b[0m\u001b[0;34m\u001b[0m\u001b[0m\n\u001b[0;32m--> 316\u001b[0;31m     \u001b[0;32mreturn\u001b[0m \u001b[0m_backend_mod\u001b[0m\u001b[0;34m.\u001b[0m\u001b[0mnew_figure_manager\u001b[0m\u001b[0;34m(\u001b[0m\u001b[0;34m*\u001b[0m\u001b[0margs\u001b[0m\u001b[0;34m,\u001b[0m \u001b[0;34m**\u001b[0m\u001b[0mkwargs\u001b[0m\u001b[0;34m)\u001b[0m\u001b[0;34m\u001b[0m\u001b[0;34m\u001b[0m\u001b[0m\n\u001b[0m\u001b[1;32m    317\u001b[0m \u001b[0;34m\u001b[0m\u001b[0m\n\u001b[1;32m    318\u001b[0m \u001b[0;34m\u001b[0m\u001b[0m\n",
      "\u001b[0;32m~/Documents/udacity/AIHCND_C2_Starter/venv/lib/python3.8/site-packages/matplotlib/backend_bases.py\u001b[0m in \u001b[0;36mnew_figure_manager\u001b[0;34m(cls, num, *args, **kwargs)\u001b[0m\n\u001b[1;32m   3542\u001b[0m         \u001b[0;32mfrom\u001b[0m \u001b[0mmatplotlib\u001b[0m\u001b[0;34m.\u001b[0m\u001b[0mfigure\u001b[0m \u001b[0;32mimport\u001b[0m \u001b[0mFigure\u001b[0m\u001b[0;34m\u001b[0m\u001b[0;34m\u001b[0m\u001b[0m\n\u001b[1;32m   3543\u001b[0m         \u001b[0mfig_cls\u001b[0m \u001b[0;34m=\u001b[0m \u001b[0mkwargs\u001b[0m\u001b[0;34m.\u001b[0m\u001b[0mpop\u001b[0m\u001b[0;34m(\u001b[0m\u001b[0;34m'FigureClass'\u001b[0m\u001b[0;34m,\u001b[0m \u001b[0mFigure\u001b[0m\u001b[0;34m)\u001b[0m\u001b[0;34m\u001b[0m\u001b[0;34m\u001b[0m\u001b[0m\n\u001b[0;32m-> 3544\u001b[0;31m         \u001b[0mfig\u001b[0m \u001b[0;34m=\u001b[0m \u001b[0mfig_cls\u001b[0m\u001b[0;34m(\u001b[0m\u001b[0;34m*\u001b[0m\u001b[0margs\u001b[0m\u001b[0;34m,\u001b[0m \u001b[0;34m**\u001b[0m\u001b[0mkwargs\u001b[0m\u001b[0;34m)\u001b[0m\u001b[0;34m\u001b[0m\u001b[0;34m\u001b[0m\u001b[0m\n\u001b[0m\u001b[1;32m   3545\u001b[0m         \u001b[0;32mreturn\u001b[0m \u001b[0mcls\u001b[0m\u001b[0;34m.\u001b[0m\u001b[0mnew_figure_manager_given_figure\u001b[0m\u001b[0;34m(\u001b[0m\u001b[0mnum\u001b[0m\u001b[0;34m,\u001b[0m \u001b[0mfig\u001b[0m\u001b[0;34m)\u001b[0m\u001b[0;34m\u001b[0m\u001b[0;34m\u001b[0m\u001b[0m\n\u001b[1;32m   3546\u001b[0m \u001b[0;34m\u001b[0m\u001b[0m\n",
      "\u001b[0;31mTypeError\u001b[0m: __init__() got an unexpected keyword argument 'size'"
     ]
    }
   ],
   "source": [
    "directory=\"./data/sample/images/\"\n",
    "fig,ax=plt.subplots(2,1,size=(10,10))\n",
    "\n",
    "\n",
    "for disease in disease_labels:\n",
    "    \n",
    "    img_data=[]\n",
    "    count_no_disease=1\n",
    "    \n",
    "    for index, row in df[df['Finding Labels']==disease].iterrows():\n",
    "        fname = row['Image Index']\n",
    "        img = cv2.imread(os.path.join(directory, fname))\n",
    "#         plt.imshow(img)\n",
    "#         plt.show()\n",
    "        if count<=30:\n",
    "            img_data=np.append(img_data,img.reshape(-1))\n",
    "            count=count+1\n",
    "        else:\n",
    "            continue\n",
    "        \n",
    "    ax[0,1].hist(img_data, bins=50, density=True,label='{},n={} samples'.format(disease,count))\n",
    "    ax[0,1].set_ylabel('Percentage')\n",
    "    ax[0,1].xlabel('Pixel intensity level')    \n",
    "    ax[0,1].title('Pixel histogram of xrays with only one condition:')\n",
    "    \n",
    "\n",
    "ax[0,1].hist(img_data, bins=50, density=True,label=disease)\n",
    "ax[0,1].set_ylabel('Percentage')\n",
    "ax[0,1].xlabel('Pixel intensity level')    \n",
    "ax[0,1].title('Pixel histogram of xrays (n={} samples) with only:{}'.format(count,disease))\n",
    "\n",
    "\n",
    "no_disease=[]\n",
    "count_no_disease=0\n",
    "\n",
    "for index, row in df[df['Finding Labels']=='No Fiding'].iterrows():\n",
    "    fname = row['Image Index']\n",
    "    img = cv2.imread(os.path.join(directory, fname))\n",
    "    if count_no_disease<=30:\n",
    "        no_disease=np.append(no_disease,img.reshape(-1))\n",
    "        count_no_disease=count_no_disease+1\n",
    "    else:\n",
    "        continue\n",
    "        \n",
    "pneunomia=[]\n",
    "pneunomia_alone=[]\n",
    "no_pneunomia=[]\n",
    "for index, row in df[(df['disease_total']==1) & (df['Finding Label']=='Pneumonia')].iterrows():\n",
    "    fname = row['Image Index']\n",
    "    img = cv2.imread(os.path.join(directory, fname))\n",
    "#         plt.imshow(img)\n",
    "#         plt.show()\n",
    "    if count<=30:\n",
    "        no_disease=np.append(no_disease,img.reshape(-1))\n",
    "        count_no_disease=count_no_disease+1\n",
    "    else:\n",
    "        continue\n",
    "    \n",
    "plt.show()"
   ]
  },
  {
   "cell_type": "code",
   "execution_count": 95,
   "metadata": {},
   "outputs": [
    {
     "data": {
      "text/plain": [
       "array(['Emphysema|Infiltration|Pleural_Thickening|Pneumothorax',\n",
       "       'Cardiomegaly|Emphysema', 'No Finding', 'Atelectasis',\n",
       "       'Cardiomegaly|Edema|Effusion', 'Consolidation|Mass', 'Effusion',\n",
       "       'Consolidation|Effusion|Infiltration|Nodule', 'Mass',\n",
       "       'Mass|Pneumothorax', 'Cardiomegaly|Consolidation', 'Consolidation',\n",
       "       'Pneumothorax', 'Consolidation|Pleural_Thickening',\n",
       "       'Infiltration|Nodule', 'Fibrosis', 'Infiltration', 'Emphysema',\n",
       "       'Atelectasis|Infiltration|Mass|Pleural_Thickening',\n",
       "       'Emphysema|Mass', 'Emphysema|Pneumothorax',\n",
       "       'Emphysema|Infiltration', 'Consolidation|Effusion|Infiltration',\n",
       "       'Consolidation|Fibrosis', 'Fibrosis|Pleural_Thickening',\n",
       "       'Effusion|Infiltration', 'Nodule', 'Mass|Pleural_Thickening',\n",
       "       'Infiltration|Pleural_Thickening', 'Pleural_Thickening',\n",
       "       'Consolidation|Infiltration|Pneumothorax', 'Cardiomegaly|Effusion',\n",
       "       'Atelectasis|Consolidation|Effusion', 'Fibrosis|Infiltration',\n",
       "       'Atelectasis|Effusion|Infiltration', 'Edema|Fibrosis', 'Edema',\n",
       "       'Cardiomegaly', 'Emphysema|Infiltration|Pleural_Thickening',\n",
       "       'Atelectasis|Consolidation|Effusion|Infiltration',\n",
       "       'Atelectasis|Effusion', 'Cardiomegaly|Infiltration',\n",
       "       'Cardiomegaly|Effusion|Pneumonia', 'Atelectasis|Infiltration',\n",
       "       'Atelectasis|Effusion|Infiltration|Mass', 'Atelectasis|Mass',\n",
       "       'Consolidation|Infiltration|Pneumonia', 'Effusion|Pneumothorax',\n",
       "       'Atelectasis|Effusion|Infiltration|Nodule', 'Fibrosis|Nodule',\n",
       "       'Effusion|Infiltration|Nodule', 'Mass|Nodule',\n",
       "       'Atelectasis|Infiltration|Pleural_Thickening',\n",
       "       'Effusion|Mass|Pleural_Thickening',\n",
       "       'Atelectasis|Consolidation|Edema|Effusion|Infiltration',\n",
       "       'Infiltration|Nodule|Pneumonia', 'Infiltration|Pneumothorax',\n",
       "       'Atelectasis|Emphysema', 'Atelectasis|Effusion|Fibrosis',\n",
       "       'Consolidation|Effusion', 'Atelectasis|Nodule',\n",
       "       'Consolidation|Pneumothorax',\n",
       "       'Atelectasis|Consolidation|Effusion|Emphysema',\n",
       "       'Effusion|Pleural_Thickening', 'Emphysema|Pleural_Thickening',\n",
       "       'Edema|Infiltration', 'Atelectasis|Consolidation',\n",
       "       'Consolidation|Infiltration',\n",
       "       'Effusion|Pleural_Thickening|Pneumothorax', 'Effusion|Nodule',\n",
       "       'Nodule|Pneumonia', 'Atelectasis|Fibrosis|Infiltration',\n",
       "       'Cardiomegaly|Edema', 'Mass|Nodule|Pneumonia',\n",
       "       'Atelectasis|Pneumonia', 'Effusion|Infiltration|Mass',\n",
       "       'Atelectasis|Cardiomegaly|Effusion|Fibrosis|Infiltration',\n",
       "       'Consolidation|Effusion|Pneumothorax',\n",
       "       'Atelectasis|Consolidation|Infiltration',\n",
       "       'Atelectasis|Pleural_Thickening', 'Consolidation|Effusion|Mass',\n",
       "       'Atelectasis|Cardiomegaly|Effusion',\n",
       "       'Atelectasis|Cardiomegaly|Infiltration',\n",
       "       'Cardiomegaly|Effusion|Fibrosis', 'Nodule|Pleural_Thickening',\n",
       "       'Infiltration|Mass', 'Atelectasis|Fibrosis',\n",
       "       'Mass|Nodule|Pneumothorax', 'Nodule|Pneumothorax',\n",
       "       'Cardiomegaly|Effusion|Infiltration',\n",
       "       'Consolidation|Infiltration|Nodule|Pneumothorax',\n",
       "       'Emphysema|Pneumonia', 'Atelectasis|Effusion|Mass|Nodule',\n",
       "       'Atelectasis|Cardiomegaly|Effusion|Fibrosis|Nodule',\n",
       "       'Edema|Effusion', 'Atelectasis|Pneumothorax',\n",
       "       'Infiltration|Nodule|Pleural_Thickening',\n",
       "       'Effusion|Infiltration|Pleural_Thickening',\n",
       "       'Emphysema|Infiltration|Nodule|Pneumothorax',\n",
       "       'Hernia|Infiltration|Mass', 'Edema|Effusion|Mass',\n",
       "       'Infiltration|Pleural_Thickening|Pneumothorax',\n",
       "       'Consolidation|Emphysema|Infiltration', 'Atelectasis|Edema',\n",
       "       'Effusion|Emphysema', 'Atelectasis|Effusion|Pneumothorax',\n",
       "       'Consolidation|Pneumonia', 'Pleural_Thickening|Pneumothorax',\n",
       "       'Hernia', 'Atelectasis|Infiltration|Pneumothorax',\n",
       "       'Edema|Effusion|Infiltration', 'Effusion|Mass',\n",
       "       'Consolidation|Fibrosis|Pneumothorax', 'Effusion|Mass|Nodule',\n",
       "       'Mass|Nodule|Pleural_Thickening', 'Fibrosis|Hernia|Mass',\n",
       "       'Atelectasis|Consolidation|Mass|Pneumonia',\n",
       "       'Atelectasis|Consolidation|Edema',\n",
       "       'Atelectasis|Consolidation|Mass|Pneumothorax',\n",
       "       'Infiltration|Mass|Nodule|Pneumothorax', 'Pneumonia',\n",
       "       'Atelectasis|Effusion|Mass', 'Emphysema|Fibrosis',\n",
       "       'Atelectasis|Cardiomegaly',\n",
       "       'Atelectasis|Effusion|Emphysema|Infiltration',\n",
       "       'Atelectasis|Emphysema|Infiltration|Mass|Pneumothorax',\n",
       "       'Atelectasis|Hernia|Pneumothorax', 'Atelectasis|Effusion|Hernia',\n",
       "       'Atelectasis|Consolidation|Edema|Infiltration|Pneumonia',\n",
       "       'Atelectasis|Edema|Effusion|Infiltration|Pneumonia',\n",
       "       'Edema|Infiltration|Mass|Pneumonia|Pneumothorax',\n",
       "       'Effusion|Fibrosis', 'Effusion|Infiltration|Pneumothorax',\n",
       "       'Atelectasis|Consolidation|Pneumothorax',\n",
       "       'Atelectasis|Emphysema|Infiltration|Pneumothorax',\n",
       "       'Fibrosis|Nodule|Pleural_Thickening', 'Infiltration|Pneumonia',\n",
       "       'Emphysema|Nodule|Pneumothorax', 'Atelectasis|Infiltration|Nodule',\n",
       "       'Atelectasis|Emphysema|Pneumothorax',\n",
       "       'Fibrosis|Pleural_Thickening|Pneumothorax',\n",
       "       'Consolidation|Fibrosis|Infiltration',\n",
       "       'Atelectasis|Consolidation|Infiltration|Pneumothorax',\n",
       "       'Effusion|Mass|Pleural_Thickening|Pneumothorax',\n",
       "       'Atelectasis|Emphysema|Infiltration',\n",
       "       'Cardiomegaly|Pleural_Thickening',\n",
       "       'Cardiomegaly|Fibrosis|Infiltration', 'Atelectasis|Mass|Nodule',\n",
       "       'Atelectasis|Nodule|Pneumothorax',\n",
       "       'Effusion|Emphysema|Pleural_Thickening',\n",
       "       'Atelectasis|Consolidation|Nodule',\n",
       "       'Atelectasis|Consolidation|Effusion|Fibrosis|Pleural_Thickening',\n",
       "       'Emphysema|Mass|Pneumothorax',\n",
       "       'Consolidation|Effusion|Infiltration|Pleural_Thickening',\n",
       "       'Consolidation|Edema|Effusion|Pneumonia', 'Atelectasis|Hernia',\n",
       "       'Edema|Mass', 'Cardiomegaly|Edema|Infiltration|Pneumonia',\n",
       "       'Fibrosis|Infiltration|Pleural_Thickening', 'Fibrosis|Mass',\n",
       "       'Hernia|Mass',\n",
       "       'Atelectasis|Consolidation|Effusion|Infiltration|Pneumonia',\n",
       "       'Edema|Pneumonia', 'Atelectasis|Emphysema|Mass',\n",
       "       'Edema|Infiltration|Pneumonia', 'Cardiomegaly|Edema|Mass',\n",
       "       'Atelectasis|Consolidation|Effusion|Pleural_Thickening',\n",
       "       'Effusion|Mass|Nodule|Pleural_Thickening',\n",
       "       'Atelectasis|Edema|Effusion',\n",
       "       'Effusion|Fibrosis|Infiltration|Nodule',\n",
       "       'Effusion|Emphysema|Pneumothorax',\n",
       "       'Atelectasis|Effusion|Emphysema|Pneumothorax',\n",
       "       'Effusion|Nodule|Pneumothorax',\n",
       "       'Effusion|Infiltration|Mass|Pneumothorax', 'Consolidation|Edema',\n",
       "       'Cardiomegaly|Effusion|Nodule', 'Atelectasis|Effusion|Nodule',\n",
       "       'Edema|Infiltration|Mass',\n",
       "       'Emphysema|Infiltration|Mass|Pneumothorax',\n",
       "       'Atelectasis|Effusion|Mass|Pleural_Thickening', 'Emphysema|Nodule',\n",
       "       'Consolidation|Infiltration|Mass',\n",
       "       'Atelectasis|Effusion|Hernia|Infiltration', 'Consolidation|Nodule',\n",
       "       'Effusion|Fibrosis|Mass|Nodule',\n",
       "       'Effusion|Mass|Nodule|Pneumothorax',\n",
       "       'Edema|Emphysema|Infiltration|Pneumonia',\n",
       "       'Atelectasis|Effusion|Emphysema',\n",
       "       'Cardiomegaly|Consolidation|Effusion|Mass|Pneumothorax',\n",
       "       'Consolidation|Effusion|Infiltration|Mass',\n",
       "       'Atelectasis|Cardiomegaly|Effusion|Mass',\n",
       "       'Consolidation|Effusion|Mass|Nodule|Pleural_Thickening',\n",
       "       'Atelectasis|Consolidation|Infiltration|Mass|Pleural_Thickening',\n",
       "       'Mass|Pleural_Thickening|Pneumothorax',\n",
       "       'Consolidation|Effusion|Pleural_Thickening',\n",
       "       'Atelectasis|Consolidation|Effusion|Mass|Nodule|Pneumothorax',\n",
       "       'Atelectasis|Cardiomegaly|Consolidation|Effusion|Infiltration|Mass|Pleural_Thickening',\n",
       "       'Cardiomegaly|Consolidation|Effusion',\n",
       "       'Atelectasis|Cardiomegaly|Consolidation',\n",
       "       'Consolidation|Effusion|Infiltration|Mass|Nodule',\n",
       "       'Atelectasis|Consolidation|Infiltration|Pneumonia',\n",
       "       'Fibrosis|Infiltration|Mass',\n",
       "       'Atelectasis|Consolidation|Nodule|Pleural_Thickening|Pneumothorax',\n",
       "       'Effusion|Infiltration|Mass|Nodule',\n",
       "       'Atelectasis|Emphysema|Fibrosis|Pleural_Thickening',\n",
       "       'Consolidation|Infiltration|Mass|Nodule',\n",
       "       'Atelectasis|Edema|Effusion|Pneumonia',\n",
       "       'Atelectasis|Effusion|Pleural_Thickening|Pneumothorax',\n",
       "       'Consolidation|Mass|Nodule|Pneumonia',\n",
       "       'Effusion|Infiltration|Nodule|Pneumothorax',\n",
       "       'Infiltration|Mass|Nodule|Pleural_Thickening|Pneumothorax',\n",
       "       'Atelectasis|Consolidation|Effusion|Emphysema|Nodule|Pneumothorax',\n",
       "       'Edema|Effusion|Nodule',\n",
       "       'Infiltration|Mass|Nodule|Pleural_Thickening',\n",
       "       'Cardiomegaly|Effusion|Infiltration|Nodule',\n",
       "       'Atelectasis|Cardiomegaly|Effusion|Infiltration|Pleural_Thickening',\n",
       "       'Pleural_Thickening|Pneumonia', 'Edema|Infiltration|Nodule',\n",
       "       'Effusion|Nodule|Pleural_Thickening',\n",
       "       'Consolidation|Edema|Infiltration',\n",
       "       'Effusion|Emphysema|Infiltration',\n",
       "       'Consolidation|Infiltration|Pleural_Thickening', 'Edema|Nodule',\n",
       "       'Cardiomegaly|Consolidation|Pneumonia',\n",
       "       'Atelectasis|Edema|Effusion|Infiltration',\n",
       "       'Consolidation|Emphysema',\n",
       "       'Cardiomegaly|Effusion|Pleural_Thickening', 'Effusion|Pneumonia',\n",
       "       'Emphysema|Pneumonia|Pneumothorax', 'Infiltration|Mass|Nodule',\n",
       "       'Effusion|Infiltration|Pneumonia',\n",
       "       'Atelectasis|Emphysema|Fibrosis',\n",
       "       'Atelectasis|Effusion|Pleural_Thickening',\n",
       "       'Atelectasis|Emphysema|Infiltration|Nodule|Pneumothorax',\n",
       "       'Cardiomegaly|Effusion|Mass|Pneumothorax',\n",
       "       'Cardiomegaly|Edema|Infiltration|Nodule',\n",
       "       'Atelectasis|Effusion|Infiltration|Pneumothorax',\n",
       "       'Atelectasis|Consolidation|Mass', 'Cardiomegaly|Mass',\n",
       "       'Cardiomegaly|Consolidation|Infiltration',\n",
       "       'Emphysema|Pleural_Thickening|Pneumothorax',\n",
       "       'Atelectasis|Consolidation|Effusion|Mass',\n",
       "       'Consolidation|Effusion|Pneumonia',\n",
       "       'Cardiomegaly|Effusion|Emphysema'], dtype=object)"
      ]
     },
     "execution_count": 95,
     "metadata": {},
     "output_type": "execute_result"
    }
   ],
   "source": [
    "df['Finding Labels'].unique()"
   ]
  },
  {
   "cell_type": "code",
   "execution_count": null,
   "metadata": {},
   "outputs": [],
   "source": []
  }
 ],
 "metadata": {
  "kernelspec": {
   "display_name": "Python 3 (ipykernel)",
   "language": "python",
   "name": "python3"
  },
  "language_info": {
   "codemirror_mode": {
    "name": "ipython",
    "version": 3
   },
   "file_extension": ".py",
   "mimetype": "text/x-python",
   "name": "python",
   "nbconvert_exporter": "python",
   "pygments_lexer": "ipython3",
   "version": "3.8.2"
  }
 },
 "nbformat": 4,
 "nbformat_minor": 2
}
